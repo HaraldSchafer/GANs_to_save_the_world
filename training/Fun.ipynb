{
 "cells": [
  {
   "cell_type": "code",
   "execution_count": null,
   "metadata": {},
   "outputs": [],
   "source": [
    "%pylab inline\n",
    "%load_ext autoreload\n",
    "%autoreload 2"
   ]
  },
  {
   "cell_type": "code",
   "execution_count": null,
   "metadata": {},
   "outputs": [],
   "source": [
    "from dataloader import SatImageDataset, dataloader, get_custom_tile_geodetic, get_custom_tile\n",
    "from config import config"
   ]
  },
  {
   "cell_type": "code",
   "execution_count": null,
   "metadata": {},
   "outputs": [],
   "source": [
    "a = SatImageDataset()"
   ]
  },
  {
   "cell_type": "code",
   "execution_count": null,
   "metadata": {},
   "outputs": [],
   "source": [
    "dl = dataloader(config)\n",
    "dl.renew(2)"
   ]
  },
  {
   "cell_type": "code",
   "execution_count": null,
   "metadata": {},
   "outputs": [],
   "source": [
    "figsize(12,12)\n",
    "imshow(get_custom_tile_geodetic(51.5, 0 , 8))\n"
   ]
  },
  {
   "cell_type": "code",
   "execution_count": null,
   "metadata": {},
   "outputs": [],
   "source": [
    "print(get_custom_tile_geodetic(51.5, 0 , 8))\n"
   ]
  },
  {
   "cell_type": "code",
   "execution_count": null,
   "metadata": {},
   "outputs": [],
   "source": [
    "import torch\n",
    "from config import config\n",
    "from network import Generator\n",
    "model = Generator(config)\n",
    "model.grow_network(3)\n",
    "model.flush_network()\n",
    "model.grow_network(4)\n",
    "model.flush_network()\n",
    "model.grow_network(5)\n",
    "model.flush_network()\n",
    "model.grow_network(6)\n",
    "model.flush_network()\n",
    "a = torch.load('/home/batman/GANs_to_save_the_world/training/repo/model/gen_R6_T2950.pth.tar')\n",
    "model.load_state_dict(a['state_dict'])\n",
    "model.eval()"
   ]
  },
  {
   "cell_type": "code",
   "execution_count": null,
   "metadata": {},
   "outputs": [],
   "source": [
    "coord = np.array([45, 81, 3])\n",
    "img = model(torch.FloatTensor(np.zeros((1,512))), torch.FloatTensor(coord[None]))"
   ]
  },
  {
   "cell_type": "code",
   "execution_count": null,
   "metadata": {},
   "outputs": [],
   "source": [
    "img_float = img.detach().numpy()[0].swapaxes(0,2)\n",
    "img_uint8 = np.clip(128*(img_float + 1), 0, 255).astype(np.uint8)\n",
    "imshow(img_uint8)"
   ]
  },
  {
   "cell_type": "code",
   "execution_count": null,
   "metadata": {},
   "outputs": [],
   "source": []
  },
  {
   "cell_type": "code",
   "execution_count": null,
   "metadata": {},
   "outputs": [],
   "source": [
    "max_zoom = 8\n",
    "\n",
    "test_samples = np.random.uniform(0.0, 1.0, size=(16, 3))\n",
    "test_samples[:,2] = np.floor(max_zoom*test_samples[:,2]) + 1.0\n",
    "\n",
    "test_imgs = np.zeros((16,256,256,3), dtype=np.uint8)\n",
    "for i in range(0,16):\n",
    "  test_imgs[i] = get_custom_tile(*test_samples[i])                                                                                                                                                                                                                            \n",
    "test_imgs = test_imgs.reshape((4,4,256,256,3))\n",
    "test_imgs = np.concatenate(test_imgs, axis=1)\n",
    "test_imgs = np.concatenate(test_imgs, axis=1)\n",
    "print(test_imgs.shape)"
   ]
  },
  {
   "cell_type": "code",
   "execution_count": null,
   "metadata": {},
   "outputs": [],
   "source": [
    "imshow(test_imgs)"
   ]
  },
  {
   "cell_type": "code",
   "execution_count": null,
   "metadata": {},
   "outputs": [],
   "source": [
    "np.savetxt('test/coord.txt', test_samples)"
   ]
  },
  {
   "cell_type": "code",
   "execution_count": null,
   "metadata": {},
   "outputs": [],
   "source": [
    "imsave('test/img_grid.jpeg', test_imgs)"
   ]
  },
  {
   "cell_type": "code",
   "execution_count": null,
   "metadata": {},
   "outputs": [],
   "source": []
  }
 ],
 "metadata": {
  "kernelspec": {
   "display_name": "Python 3",
   "language": "python",
   "name": "python3"
  },
  "language_info": {
   "codemirror_mode": {
    "name": "ipython",
    "version": 3
   },
   "file_extension": ".py",
   "mimetype": "text/x-python",
   "name": "python",
   "nbconvert_exporter": "python",
   "pygments_lexer": "ipython3",
   "version": "3.7.3"
  }
 },
 "nbformat": 4,
 "nbformat_minor": 2
}
