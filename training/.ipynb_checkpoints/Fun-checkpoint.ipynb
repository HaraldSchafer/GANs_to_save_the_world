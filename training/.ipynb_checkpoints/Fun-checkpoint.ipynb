{
 "cells": [
  {
   "cell_type": "code",
   "execution_count": 18,
   "metadata": {},
   "outputs": [
    {
     "name": "stdout",
     "output_type": "stream",
     "text": [
      "Populating the interactive namespace from numpy and matplotlib\n",
      "The autoreload extension is already loaded. To reload it, use:\n",
      "  %reload_ext autoreload\n"
     ]
    }
   ],
   "source": [
    "%pylab inline\n",
    "%load_ext autoreload\n",
    "%autoreload 2"
   ]
  },
  {
   "cell_type": "code",
   "execution_count": 19,
   "metadata": {},
   "outputs": [],
   "source": [
    "from dataloader import SatImageDataset, dataloader\n",
    "from config import config"
   ]
  },
  {
   "cell_type": "code",
   "execution_count": 20,
   "metadata": {},
   "outputs": [
    {
     "name": "stderr",
     "output_type": "stream",
     "text": [
      "100%|██████████| 20479/20479 [00:00<00:00, 149219.12it/s]\n"
     ]
    }
   ],
   "source": [
    "a = SatImageDataset()"
   ]
  },
  {
   "cell_type": "code",
   "execution_count": 21,
   "metadata": {},
   "outputs": [
    {
     "data": {
      "text/plain": [
       "['/raid.dell2/world/zoom_5/0.jpeg', '/raid.dell2/world/zoom_5/0.txt']"
      ]
     },
     "execution_count": 21,
     "metadata": {},
     "output_type": "execute_result"
    }
   ],
   "source": [
    "a.samples[0]"
   ]
  },
  {
   "cell_type": "code",
   "execution_count": 22,
   "metadata": {},
   "outputs": [
    {
     "data": {
      "text/plain": [
       "{'image': <PIL.Image.Image image mode=RGB size=256x256 at 0x7FB01A541860>,\n",
       " 'meta': [-5.8507467190689795, -146.288994733857, 5.0]}"
      ]
     },
     "execution_count": 22,
     "metadata": {},
     "output_type": "execute_result"
    }
   ],
   "source": [
    "a[4]"
   ]
  },
  {
   "cell_type": "code",
   "execution_count": 23,
   "metadata": {},
   "outputs": [
    {
     "name": "stderr",
     "output_type": "stream",
     "text": [
      "\r",
      "  0%|          | 0/20479 [00:00<?, ?it/s]"
     ]
    },
    {
     "name": "stdout",
     "output_type": "stream",
     "text": [
      "[*] Renew dataloader configuration, load data from /raid.dell2/world/.\n"
     ]
    },
    {
     "name": "stderr",
     "output_type": "stream",
     "text": [
      "100%|██████████| 20479/20479 [00:00<00:00, 132270.31it/s]\n"
     ]
    }
   ],
   "source": [
    "dl = dataloader(config)\n",
    "dl.renew(2)"
   ]
  },
  {
   "cell_type": "code",
   "execution_count": 24,
   "metadata": {},
   "outputs": [
    {
     "name": "stdout",
     "output_type": "stream",
     "text": [
      "tensor([[[[-0.9451, -0.9451, -0.9451, -0.9529],\n",
      "          [-0.9373, -0.6157, -0.9373, -0.9608],\n",
      "          [-0.0667,  0.0118, -0.1922, -0.8588],\n",
      "          [-0.1608, -0.2784, -0.2000, -0.4275]],\n",
      "\n",
      "         [[-0.7098, -0.7098, -0.7098, -0.7020],\n",
      "          [-0.7098, -0.4196, -0.6471, -0.7098],\n",
      "          [-0.0275, -0.0353, -0.1059, -0.4588],\n",
      "          [-0.1216, -0.2235, -0.2314, -0.1922]],\n",
      "\n",
      "         [[-0.6235, -0.6235, -0.6235, -0.6157],\n",
      "          [-0.6784, -0.5922, -0.5765, -0.6235],\n",
      "          [-0.2784, -0.2078, -0.3412, -0.4275],\n",
      "          [-0.3725, -0.3490, -0.4588, -0.4588]]],\n",
      "\n",
      "\n",
      "        [[[-0.9922, -0.9922, -1.0000, -0.9922],\n",
      "          [-1.0000, -0.9922, -0.9686, -1.0000],\n",
      "          [-1.0000, -1.0000, -0.9843, -1.0000],\n",
      "          [-1.0000, -0.9843, -0.9843, -1.0000]],\n",
      "\n",
      "         [[-0.9137, -0.9137, -0.9216, -0.9294],\n",
      "          [-0.9294, -0.9137, -0.8902, -0.9059],\n",
      "          [-0.8588, -0.8980, -0.9059, -0.9294],\n",
      "          [-0.8510, -0.8353, -0.9059, -0.8980]],\n",
      "\n",
      "         [[-0.8196, -0.8196, -0.8275, -0.8431],\n",
      "          [-0.8353, -0.8196, -0.7961, -0.7961],\n",
      "          [-0.7412, -0.7961, -0.8118, -0.8353],\n",
      "          [-0.7412, -0.7255, -0.8118, -0.7961]]],\n",
      "\n",
      "\n",
      "        [[[ 0.7098,  0.7176,  0.7176,  0.7255],\n",
      "          [ 0.7176,  0.7176,  0.7255,  0.7333],\n",
      "          [ 0.7255,  0.7255,  0.7176,  0.7255],\n",
      "          [ 0.7490,  0.7569,  0.7490,  0.7490]],\n",
      "\n",
      "         [[ 0.7647,  0.7725,  0.7725,  0.7804],\n",
      "          [ 0.7725,  0.7725,  0.7804,  0.7882],\n",
      "          [ 0.7804,  0.7804,  0.7725,  0.7804],\n",
      "          [ 0.7647,  0.7725,  0.7647,  0.7647]],\n",
      "\n",
      "         [[ 0.8431,  0.8510,  0.8510,  0.8588],\n",
      "          [ 0.8510,  0.8510,  0.8588,  0.8667],\n",
      "          [ 0.8588,  0.8588,  0.8510,  0.8588],\n",
      "          [ 0.8588,  0.8667,  0.8588,  0.8588]]],\n",
      "\n",
      "\n",
      "        ...,\n",
      "\n",
      "\n",
      "        [[[-1.0000, -1.0000, -0.9922, -0.9922],\n",
      "          [-0.9765, -0.9686, -0.9843, -0.9843],\n",
      "          [-1.0000, -0.9843, -0.9765, -0.9922],\n",
      "          [-1.0000, -0.9529, -1.0000, -0.9765]],\n",
      "\n",
      "         [[-0.8902, -0.8824, -0.8431, -0.8510],\n",
      "          [-0.8353, -0.8275, -0.8118, -0.8353],\n",
      "          [-0.8745, -0.8431, -0.8353, -0.8431],\n",
      "          [-0.8588, -0.8275, -0.8588, -0.8275]],\n",
      "\n",
      "         [[-0.7882, -0.7647, -0.7333, -0.7412],\n",
      "          [-0.7255, -0.7176, -0.7255, -0.7255],\n",
      "          [-0.7725, -0.7333, -0.7412, -0.7333],\n",
      "          [-0.7490, -0.7255, -0.7490, -0.7176]]],\n",
      "\n",
      "\n",
      "        [[[-0.9922, -0.9843, -0.9922, -1.0000],\n",
      "          [-1.0000, -0.9922, -1.0000, -1.0000],\n",
      "          [-0.9843, -0.9843, -1.0000, -0.9922],\n",
      "          [-0.9765, -0.9529, -1.0000, -1.0000]],\n",
      "\n",
      "         [[-0.9137, -0.9059, -0.9137, -0.8588],\n",
      "          [-0.9216, -0.9451, -0.9216, -0.9216],\n",
      "          [-0.8902, -0.9059, -0.8980, -0.9137],\n",
      "          [-0.8824, -0.8745, -0.9137, -0.9373]],\n",
      "\n",
      "         [[-0.8196, -0.8118, -0.8196, -0.7490],\n",
      "          [-0.8275, -0.8510, -0.8275, -0.8431],\n",
      "          [-0.7961, -0.8118, -0.7961, -0.8196],\n",
      "          [-0.7725, -0.7804, -0.8196, -0.8431]]],\n",
      "\n",
      "\n",
      "        [[[-0.2627, -0.2863, -1.0000, -0.9765],\n",
      "          [-0.1451, -0.4039, -0.9922, -0.9843],\n",
      "          [-0.5608, -0.9765, -0.9843, -0.9373],\n",
      "          [-0.9451, -0.9922, -0.9765, -1.0000]],\n",
      "\n",
      "         [[-0.1529, -0.1922, -0.8118, -0.8667],\n",
      "          [-0.0588, -0.3255, -0.8118, -0.8431],\n",
      "          [-0.3804, -0.7961, -0.8353, -0.7020],\n",
      "          [-0.7176, -0.8275, -0.8275, -0.7412]],\n",
      "\n",
      "         [[-0.4275, -0.4745, -0.7569, -0.7961],\n",
      "          [-0.3725, -0.6157, -0.7490, -0.7490],\n",
      "          [-0.7412, -0.6706, -0.7176, -0.7020],\n",
      "          [-0.6078, -0.6941, -0.7176, -0.6784]]]])\n"
     ]
    },
    {
     "data": {
      "text/plain": [
       "torch.Size([32, 3, 4, 4])"
      ]
     },
     "execution_count": 24,
     "metadata": {},
     "output_type": "execute_result"
    }
   ],
   "source": [
    "dl.get_batch()['image'].shape"
   ]
  },
  {
   "cell_type": "code",
   "execution_count": 92,
   "metadata": {},
   "outputs": [
    {
     "name": "stderr",
     "output_type": "stream",
     "text": [
      "/home/batman/GANs_to_save_the_world/training/custom_layers.py:137: UserWarning: nn.init.kaiming_normal is now deprecated in favor of nn.init.kaiming_normal_.\n",
      "  if initializer == 'kaiming':    kaiming_normal(self.linear.weight, a=calculate_gain('linear'))\n",
      "/home/batman/GANs_to_save_the_world/training/custom_layers.py:104: UserWarning: nn.init.kaiming_normal is now deprecated in favor of nn.init.kaiming_normal_.\n",
      "  if initializer == 'kaiming':    kaiming_normal(self.conv.weight, a=calculate_gain('conv2d'))\n"
     ]
    },
    {
     "name": "stdout",
     "output_type": "stream",
     "text": [
      "growing network[4x4 to 8x8]. It may take few seconds...\n",
      "growing network[8x8 to 16x16]. It may take few seconds...\n"
     ]
    },
    {
     "ename": "RuntimeError",
     "evalue": "Error(s) in loading state_dict for Generator:\n\tMissing key(s) in state_dict: \"model.concat_block.layer2.high_resl_block.1.bias\", \"model.concat_block.layer2.high_resl_block.1.conv.weight\", \"model.concat_block.layer2.high_resl_block.4.bias\", \"model.concat_block.layer2.high_resl_block.4.conv.weight\", \"model.concat_block.layer2.high_resl_to_rgb.0.bias\", \"model.concat_block.layer2.high_resl_to_rgb.0.conv.weight\". \n\tUnexpected key(s) in state_dict: \"model.intermediate_4x4_8x8.high_resl_block.1.bias\", \"model.intermediate_4x4_8x8.high_resl_block.1.conv.weight\", \"model.intermediate_4x4_8x8.high_resl_block.4.bias\", \"model.intermediate_4x4_8x8.high_resl_block.4.conv.weight\", \"model.intermediate_8x8_16x16.high_resl_block.1.bias\", \"model.intermediate_8x8_16x16.high_resl_block.1.conv.weight\", \"model.intermediate_8x8_16x16.high_resl_block.4.bias\", \"model.intermediate_8x8_16x16.high_resl_block.4.conv.weight\", \"model.to_rgb_block.high_resl_to_rgb.0.bias\", \"model.to_rgb_block.high_resl_to_rgb.0.conv.weight\". ",
     "output_type": "error",
     "traceback": [
      "\u001b[0;31m---------------------------------------------------------------------------\u001b[0m",
      "\u001b[0;31mRuntimeError\u001b[0m                              Traceback (most recent call last)",
      "\u001b[0;32m<ipython-input-92-95d7eb760126>\u001b[0m in \u001b[0;36m<module>\u001b[0;34m\u001b[0m\n\u001b[1;32m      6\u001b[0m \u001b[0mmodel\u001b[0m\u001b[0;34m.\u001b[0m\u001b[0mgrow_network\u001b[0m\u001b[0;34m(\u001b[0m\u001b[0;36m4\u001b[0m\u001b[0;34m)\u001b[0m\u001b[0;34m\u001b[0m\u001b[0;34m\u001b[0m\u001b[0m\n\u001b[1;32m      7\u001b[0m \u001b[0ma\u001b[0m \u001b[0;34m=\u001b[0m \u001b[0mtorch\u001b[0m\u001b[0;34m.\u001b[0m\u001b[0mload\u001b[0m\u001b[0;34m(\u001b[0m\u001b[0;34m'/home/batman/GANs_to_save_the_world/training/repo/model/gen_R4_T1750.pth.tar'\u001b[0m\u001b[0;34m)\u001b[0m\u001b[0;34m\u001b[0m\u001b[0;34m\u001b[0m\u001b[0m\n\u001b[0;32m----> 8\u001b[0;31m \u001b[0mmodel\u001b[0m\u001b[0;34m.\u001b[0m\u001b[0mload_state_dict\u001b[0m\u001b[0;34m(\u001b[0m\u001b[0ma\u001b[0m\u001b[0;34m[\u001b[0m\u001b[0;34m'state_dict'\u001b[0m\u001b[0;34m]\u001b[0m\u001b[0;34m)\u001b[0m\u001b[0;34m\u001b[0m\u001b[0;34m\u001b[0m\u001b[0m\n\u001b[0m\u001b[1;32m      9\u001b[0m \u001b[0mmodel\u001b[0m\u001b[0;34m.\u001b[0m\u001b[0meval\u001b[0m\u001b[0;34m(\u001b[0m\u001b[0;34m)\u001b[0m\u001b[0;34m\u001b[0m\u001b[0;34m\u001b[0m\u001b[0m\n",
      "\u001b[0;32m/usr/local/pyenv/versions/3.7.3/lib/python3.7/site-packages/torch/nn/modules/module.py\u001b[0m in \u001b[0;36mload_state_dict\u001b[0;34m(self, state_dict, strict)\u001b[0m\n\u001b[1;32m    828\u001b[0m         \u001b[0;32mif\u001b[0m \u001b[0mlen\u001b[0m\u001b[0;34m(\u001b[0m\u001b[0merror_msgs\u001b[0m\u001b[0;34m)\u001b[0m \u001b[0;34m>\u001b[0m \u001b[0;36m0\u001b[0m\u001b[0;34m:\u001b[0m\u001b[0;34m\u001b[0m\u001b[0;34m\u001b[0m\u001b[0m\n\u001b[1;32m    829\u001b[0m             raise RuntimeError('Error(s) in loading state_dict for {}:\\n\\t{}'.format(\n\u001b[0;32m--> 830\u001b[0;31m                                self.__class__.__name__, \"\\n\\t\".join(error_msgs)))\n\u001b[0m\u001b[1;32m    831\u001b[0m         \u001b[0;32mreturn\u001b[0m \u001b[0m_IncompatibleKeys\u001b[0m\u001b[0;34m(\u001b[0m\u001b[0mmissing_keys\u001b[0m\u001b[0;34m,\u001b[0m \u001b[0munexpected_keys\u001b[0m\u001b[0;34m)\u001b[0m\u001b[0;34m\u001b[0m\u001b[0;34m\u001b[0m\u001b[0m\n\u001b[1;32m    832\u001b[0m \u001b[0;34m\u001b[0m\u001b[0m\n",
      "\u001b[0;31mRuntimeError\u001b[0m: Error(s) in loading state_dict for Generator:\n\tMissing key(s) in state_dict: \"model.concat_block.layer2.high_resl_block.1.bias\", \"model.concat_block.layer2.high_resl_block.1.conv.weight\", \"model.concat_block.layer2.high_resl_block.4.bias\", \"model.concat_block.layer2.high_resl_block.4.conv.weight\", \"model.concat_block.layer2.high_resl_to_rgb.0.bias\", \"model.concat_block.layer2.high_resl_to_rgb.0.conv.weight\". \n\tUnexpected key(s) in state_dict: \"model.intermediate_4x4_8x8.high_resl_block.1.bias\", \"model.intermediate_4x4_8x8.high_resl_block.1.conv.weight\", \"model.intermediate_4x4_8x8.high_resl_block.4.bias\", \"model.intermediate_4x4_8x8.high_resl_block.4.conv.weight\", \"model.intermediate_8x8_16x16.high_resl_block.1.bias\", \"model.intermediate_8x8_16x16.high_resl_block.1.conv.weight\", \"model.intermediate_8x8_16x16.high_resl_block.4.bias\", \"model.intermediate_8x8_16x16.high_resl_block.4.conv.weight\", \"model.to_rgb_block.high_resl_to_rgb.0.bias\", \"model.to_rgb_block.high_resl_to_rgb.0.conv.weight\". "
     ]
    }
   ],
   "source": [
    "import torch\n",
    "from config import config\n",
    "from network import Generator\n",
    "model = Generator(config)\n",
    "model.grow_network(3)\n",
    "model.grow_network(4)\n",
    "a = torch.load('/home/batman/GANs_to_save_the_world/training/repo/model/gen_R4_T1750.pth.tar')\n",
    "model.load_state_dict(a['state_dict'])\n",
    "model.eval()"
   ]
  },
  {
   "cell_type": "code",
   "execution_count": 77,
   "metadata": {},
   "outputs": [],
   "source": [
    "img = model(torch.FloatTensor(np.zeros((1,512), dtype=np.double)), torch.FloatTensor(np.zeros((1,3), dtype=np.double)))"
   ]
  },
  {
   "cell_type": "code",
   "execution_count": 78,
   "metadata": {},
   "outputs": [
    {
     "data": {
      "text/plain": [
       "array([[[-3.7264452 , -3.7688646 , -2.7990866 , -4.0168347 ],\n",
       "        [-1.0156316 , -2.3523488 , -2.5000281 , -2.4190702 ],\n",
       "        [-2.9004934 , -1.4919492 , -3.4266763 , -1.6949329 ],\n",
       "        [-1.7129692 , -0.22116745, -1.0185211 , -1.1365572 ]],\n",
       "\n",
       "       [[-1.7297134 , -3.247441  , -4.0236583 , -3.8475678 ],\n",
       "        [-3.555602  , -4.6658554 , -3.7336383 , -3.4319959 ],\n",
       "        [-2.86212   , -3.2911754 , -4.0412817 , -2.2502391 ],\n",
       "        [-2.3475652 , -3.1827722 , -3.0278132 , -2.3859284 ]],\n",
       "\n",
       "       [[-6.4929614 , -7.4380755 , -8.037197  , -6.471476  ],\n",
       "        [-6.9351754 , -7.1462936 , -8.08331   , -4.8283343 ],\n",
       "        [-7.685402  , -6.974134  , -7.6230783 , -5.084087  ],\n",
       "        [-6.1103153 , -5.588851  , -5.3818955 , -3.8644228 ]]],\n",
       "      dtype=float32)"
      ]
     },
     "execution_count": 78,
     "metadata": {},
     "output_type": "execute_result"
    }
   ],
   "source": [
    "img.detach().numpy()[0]"
   ]
  },
  {
   "cell_type": "code",
   "execution_count": null,
   "metadata": {},
   "outputs": [],
   "source": []
  }
 ],
 "metadata": {
  "kernelspec": {
   "display_name": "Python 3",
   "language": "python",
   "name": "python3"
  },
  "language_info": {
   "codemirror_mode": {
    "name": "ipython",
    "version": 3
   },
   "file_extension": ".py",
   "mimetype": "text/x-python",
   "name": "python",
   "nbconvert_exporter": "python",
   "pygments_lexer": "ipython3",
   "version": "3.7.3"
  }
 },
 "nbformat": 4,
 "nbformat_minor": 2
}
